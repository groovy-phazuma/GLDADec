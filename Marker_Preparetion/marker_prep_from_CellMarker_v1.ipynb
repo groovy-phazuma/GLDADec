{
 "cells": [
  {
   "cell_type": "markdown",
   "metadata": {},
   "source": [
    "## Marker preparation from CellMarker v1\n",
    "- ### Monocyte: \"Monocyte\"\n",
    "- ### NK: \"Natural killer cell\"\n",
    "- ### Naive B: \"Naive B cell\",\"Resting naive B cell\"\n",
    "- ### Memory B: \"Memory B cell\",\"Resting memory B cell\"\n",
    "- ### Memory CD4: \"Memory CD4+ T cell\"\n",
    "- ### Naive CD4: \"Naive CD4 T cell\",\"Naive CD4+ T cell\"\n",
    "- ### CD8: \"Activated CD8+ T cell\",\"Activated naive CD8+ T cell\",\"Activated memory CD8+ T cell\",\"CD8 T cell\",\"CD8+ T cell\",\"Memory CD8 T cell\",\"Memory CD8+ T cell\",\"Naive CD8 T cell\",\"Naive CD8+ T cell\"\n",
    "- ### γδ: \"Gamma delta(γδ) T cell\""
   ]
  },
  {
   "cell_type": "code",
   "execution_count": 1,
   "metadata": {},
   "outputs": [],
   "source": [
    "import pandas as pd\n",
    "import codecs\n",
    "import collections\n",
    "\n",
    "Base_dir = '/mnt/AzumaDeconv/github/GLDADec' # cloning repository"
   ]
  },
  {
   "cell_type": "code",
   "execution_count": 2,
   "metadata": {},
   "outputs": [],
   "source": [
    "# load total data\n",
    "with codecs.open(Base_dir + '/data/domain_info/CellMarker/Cell_marker_All.csv', \"r\", \"Shift-JIS\", \"ignore\") as file:\n",
    "    total_ref = pd.read_table(file, delimiter=\",\")\n",
    "\n",
    "# Human PBMC\n",
    "human_ref = total_ref[total_ref[\"species\"].isin([\"Human\"])] # 60877\n",
    "pbmc_ref = human_ref[human_ref[\"tissue_type\"].isin([\"Peripheral blood\"])] # 2731"
   ]
  },
  {
   "cell_type": "code",
   "execution_count": 3,
   "metadata": {},
   "outputs": [],
   "source": [
    "# Monocyte\n",
    "mon_ref = pbmc_ref[pbmc_ref[\"cell_name\"].isin([\"Monocyte\"])]\n",
    "sym_mon = mon_ref[\"Symbol\"].dropna().unique().tolist()\n",
    "\n",
    "# NK\n",
    "nk_ref = pbmc_ref[pbmc_ref[\"cell_name\"].isin([\"Natural killer cell\"])]\n",
    "sym_nk = nk_ref[\"Symbol\"].dropna().unique().tolist()\n",
    "\n",
    "# B\n",
    "b_n_ref = pbmc_ref[pbmc_ref[\"cell_name\"].isin([\"Naive B cell\",\"Resting naive B cell\"])]\n",
    "b_m_ref = pbmc_ref[pbmc_ref[\"cell_name\"].isin([\"Memory B cell\",\"Resting memory B cell\"])]\n",
    "sym_bn = b_n_ref[\"Symbol\"].dropna().unique().tolist()\n",
    "sym_bm = b_m_ref[\"Symbol\"].dropna().unique().tolist()\n",
    "\n",
    "# CD4\n",
    "cd4_m_ref = pbmc_ref[pbmc_ref[\"cell_name\"].isin([\"Memory CD4+ T cell\"])]\n",
    "cd4_n_ref = pbmc_ref[pbmc_ref[\"cell_name\"].isin([\"Naive CD4 T cell\",\"Naive CD4+ T cell\"])]\n",
    "sym_cd4n = cd4_n_ref[\"Symbol\"].dropna().unique().tolist()\n",
    "sym_cd4m = cd4_m_ref[\"Symbol\"].dropna().unique().tolist()\n",
    "\n",
    "# CD8\n",
    "cd8_ref = pbmc_ref[pbmc_ref[\"cell_name\"].isin([\"Activated CD8+ T cell\",\"Activated naive CD8+ T cell\",\"Activated memory CD8+ T cell\",\"CD8 T cell\",\"CD8+ T cell\",\"Memory CD8 T cell\",\"Memory CD8+ T cell\",\"Naive CD8 T cell\",\"Naive CD8+ T cell\"])]\n",
    "sym_cd8 = cd8_ref[\"Symbol\"].dropna().unique().tolist()\n",
    "\n",
    "# gamma delta\n",
    "gd_ref = pbmc_ref[pbmc_ref[\"cell_name\"].isin([\"Gamma delta(γδ) T cell\"])]\n",
    "sym_gd = gd_ref[\"Symbol\"].dropna().unique().tolist()"
   ]
  },
  {
   "cell_type": "code",
   "execution_count": 4,
   "metadata": {},
   "outputs": [],
   "source": [
    "# extract registered markers\n",
    "a = [sym_mon,sym_nk,sym_bn,sym_bm,sym_cd4n,sym_cd4m,sym_cd8,sym_gd]\n",
    "cells = [\"Monocytes\",\"NK cells\",\"B cells naive\",\"B cells memory\",\"T cells CD4 naive\",\"T cells CD4 memory\",\"T cells CD8\",\"T cells gamma delta\"]\n",
    "cellmarker_dic_v1 = dict(zip(cells,a))\n",
    "\n",
    "pd.to_pickle(cellmarker_dic_v1,'/mnt/AzumaDeconv/github/GLDADec/data/domain_info/human_PBMC_CellMarker_8cell_raw_dic_v1.pkl')"
   ]
  },
  {
   "cell_type": "code",
   "execution_count": 5,
   "metadata": {},
   "outputs": [
    {
     "name": "stdout",
     "output_type": "stream",
     "text": [
      "--- Monocytes ---\n",
      "71 markers were collected\n",
      "\n",
      "--- NK cells ---\n",
      "50 markers were collected\n",
      "\n",
      "--- B cells naive ---\n",
      "13 markers were collected\n",
      "\n",
      "--- B cells memory ---\n",
      "7 markers were collected\n",
      "\n",
      "--- T cells CD4 naive ---\n",
      "41 markers were collected\n",
      "\n",
      "--- T cells CD4 memory ---\n",
      "14 markers were collected\n",
      "\n",
      "--- T cells CD8 ---\n",
      "123 markers were collected\n",
      "\n",
      "--- T cells gamma delta ---\n",
      "17 markers were collected\n",
      "\n"
     ]
    }
   ],
   "source": [
    "for i,k in enumerate(cellmarker_dic_v1):\n",
    "    print('---',k,'---')\n",
    "    print(len(cellmarker_dic_v1.get(k)),'markers were collected')\n",
    "    print()"
   ]
  },
  {
   "cell_type": "markdown",
   "metadata": {},
   "source": [
    "***\n",
    "### Extract cell specific markers"
   ]
  },
  {
   "cell_type": "code",
   "execution_count": 6,
   "metadata": {},
   "outputs": [],
   "source": [
    "# detect cell specific marker\n",
    "merge_marker = sym_mon + sym_nk + sym_bn + sym_bm + sym_cd4n + sym_cd4m + sym_cd8 + sym_gd\n",
    "count_dic = dict(collections.Counter(merge_marker))\n",
    "sort_count = sorted(count_dic.items(),key=lambda x : x[1])\n",
    "unique_marker = []\n",
    "for t in sort_count:\n",
    "    if t[1] == 1:\n",
    "        unique_marker.append(t[0])\n",
    "    else:\n",
    "        pass\n",
    "\n",
    "b = []\n",
    "for t in a:\n",
    "    b.append(list(set(t) & set(unique_marker)))\n",
    "cellmarker_spe_dic_v1 = dict(zip(cells,b))\n",
    "\n",
    "pd.to_pickle(cellmarker_spe_dic_v1,'/mnt/AzumaDeconv/github/GLDADec/data/domain_info/human_PBMC_CellMarker_8cell_spe_dic_v1.pkl')"
   ]
  },
  {
   "cell_type": "code",
   "execution_count": 7,
   "metadata": {},
   "outputs": [
    {
     "name": "stdout",
     "output_type": "stream",
     "text": [
      "--- Monocytes ---\n",
      "49 markers were collected\n",
      "\n",
      "--- NK cells ---\n",
      "23 markers were collected\n",
      "\n",
      "--- B cells naive ---\n",
      "8 markers were collected\n",
      "\n",
      "--- B cells memory ---\n",
      "3 markers were collected\n",
      "\n",
      "--- T cells CD4 naive ---\n",
      "13 markers were collected\n",
      "\n",
      "--- T cells CD4 memory ---\n",
      "2 markers were collected\n",
      "\n",
      "--- T cells CD8 ---\n",
      "83 markers were collected\n",
      "\n",
      "--- T cells gamma delta ---\n",
      "4 markers were collected\n",
      "\n"
     ]
    }
   ],
   "source": [
    "for i,k in enumerate(cellmarker_spe_dic_v1):\n",
    "    print('---',k,'---')\n",
    "    print(len(cellmarker_spe_dic_v1.get(k)),'markers were collected')\n",
    "    print()"
   ]
  }
 ],
 "metadata": {
  "kernelspec": {
   "display_name": "Python 3.9.12 64-bit",
   "name": "python3912jvsc74a57bd0fafaf8b61ce4dcfb5f0e920401fd5711f2112a3ef05bd804173964983bc63ab3"
  },
  "language_info": {
   "codemirror_mode": {
    "name": "ipython",
    "version": 3
   },
   "file_extension": ".py",
   "mimetype": "text/x-python",
   "name": "python",
   "nbconvert_exporter": "python",
   "pygments_lexer": "ipython3",
   "version": "3.9.12"
  },
  "orig_nbformat": 2
 },
 "nbformat": 4,
 "nbformat_minor": 2
}